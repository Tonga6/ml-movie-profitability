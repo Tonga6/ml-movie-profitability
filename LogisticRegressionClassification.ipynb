{
 "cells": [
  {
   "cell_type": "code",
   "execution_count": 51,
   "id": "fab2cb70",
   "metadata": {},
   "outputs": [],
   "source": [
    "//Converting json into CSV\n",
    "import pandas as pd\n",
    "df = pd.read_json (\"movies_db_ML.json\")\n",
    "df.to_csv (\"movies_db_ML.csv\", index = None)\n",
    "\n"
   ]
  },
  {
   "cell_type": "code",
   "execution_count": 18,
   "id": "d9074ff0",
   "metadata": {
    "scrolled": true
   },
   "outputs": [
    {
     "name": "stdout",
     "output_type": "stream",
     "text": [
      "Number of data used for training\n",
      "(856, 5)\n",
      "The Coefficient is: \n",
      "[[ 4.21752005e-05 -7.68331093e-06  6.19152179e-07  8.46738018e-04\n",
      "  -8.53856218e-09]]\n",
      "The Slope is: \n",
      "7.890851845885685e-08\n",
      "Accuracy:  0.8566433566433567\n"
     ]
    },
    {
     "data": {
      "image/png": "[encoded data removed]",
      "text/plain": [
       "<Figure size 432x288 with 2 Axes>"
      ]
     },
     "metadata": {
      "needs_background": "light"
     },
     "output_type": "display_data"
    },
    {
     "data": {
      "text/plain": [
       "(286, 5)"
      ]
     },
     "execution_count": 18,
     "metadata": {},
     "output_type": "execute_result"
    }
   ],
   "source": [
    "import pandas as pd\n",
    "from sklearn.model_selection import train_test_split\n",
    "\n",
    "import matplotlib.pyplot as plt\n",
    "from matplotlib.ticker import ScalarFormatter\n",
    "from sklearn.model_selection import GridSearchCV\n",
    "\n",
    "\n",
    "from sklearn.linear_model import LogisticRegression\n",
    "df = pd.read_csv('movies_db_ML.csv')\n",
    "\n",
    "features_taken=['results/features/0/genre_ids', \n",
    "            'results/features/0/production_companies/0', \n",
    "            'results/features/0/vote_average', \n",
    "            'results/features/0/vote_count',\n",
    "           'results/features/0/budget']\n",
    "\n",
    "x_dummy = pd.get_dummies(df.loc[:,features_taken])\n",
    "\n",
    "x = df[features_taken].values\n",
    "y = df['labels']\n",
    "\n",
    "\n",
    "x_train, x_test, y_train, y_test = train_test_split(x, y, random_state=1)\n",
    "log_reg = LogisticRegression(penalty='none',solver='lbfgs')\n",
    "log_reg.fit(x_train, y_train)\n",
    "y_pred=log_reg.predict(x_test)\n",
    "\n",
    "#Total Training data\n",
    "print('Number of data used for training')\n",
    "\n",
    "print(x_train.shape)\n",
    "\n",
    "# Retrieve the model parameters.\n",
    "b = log_reg.intercept_[0]\n",
    "w2 = log_reg.coef_\n",
    "# Calculate the intercept and gradient of the decision boundary.\n",
    "print('The Coefficient is: ')\n",
    "print(w2)\n",
    "\n",
    "print('The Slope is: ')\n",
    "print(b)\n",
    "import seaborn as sn\n",
    "\n",
    "from sklearn import metrics\n",
    "\n",
    "#Confusion matrix plotting \n",
    "confusion_matrix = pd.crosstab(y_test, y_pred, rownames=['Actual'], colnames=['Predicted'])\n",
    "sn.heatmap(confusion_matrix, annot=True)\n",
    "\n",
    "print('Accuracy: ',metrics.accuracy_score(y_test, y_pred))\n",
    "plt.show()\n",
    "\n"
   ]
  },
  {
   "cell_type": "code",
   "execution_count": 102,
   "id": "5aa2dffe",
   "metadata": {},
   "outputs": [
    {
     "data": {
      "text/plain": [
       "(856, 5)"
      ]
     },
     "execution_count": 102,
     "metadata": {},
     "output_type": "execute_result"
    }
   ],
   "source": []
  },
  {
   "cell_type": "code",
   "execution_count": null,
   "id": "a26b9a8a",
   "metadata": {},
   "outputs": [],
   "source": []
  },
  {
   "cell_type": "code",
   "execution_count": null,
   "id": "5c3bd98d",
   "metadata": {},
   "outputs": [],
   "source": []
  },
  {
   "cell_type": "code",
   "execution_count": null,
   "id": "c89bbe6a",
   "metadata": {},
   "outputs": [],
   "source": []
  },
  {
   "cell_type": "code",
   "execution_count": null,
   "id": "13430340",
   "metadata": {},
   "outputs": [],
   "source": []
  },
  {
   "cell_type": "code",
   "execution_count": null,
   "id": "849fa083",
   "metadata": {},
   "outputs": [],
   "source": []
  }
 ],
 "metadata": {
  "kernelspec": {
   "display_name": "Python 3 (ipykernel)",
   "language": "python",
   "name": "python3"
  },
  "language_info": {
   "codemirror_mode": {
    "name": "ipython",
    "version": 3
   },
   "file_extension": ".py",
   "mimetype": "text/x-python",
   "name": "python",
   "nbconvert_exporter": "python",
   "pygments_lexer": "ipython3",
   "version": "3.8.8"
  }
 },
 "nbformat": 4,
 "nbformat_minor": 5
}
